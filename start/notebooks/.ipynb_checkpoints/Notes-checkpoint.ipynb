{
 "cells": [
  {
   "cell_type": "markdown",
   "metadata": {},
   "source": [
    "Lots of technologies. HTML is a clump of things. Primarily it is a Markup Language, and the 5th version came out in 2014.  We won't talk about all of these, SVG, css, HTML Markup are the big ones for us. But you can see that when people say HTML5 it means a lot of things to a lot of different people. Don't let the Moniker scare you, We are focusing on the Markup Language part of HTML 5 and using parts of other specifications when we need to."
   ]
  },
  {
   "cell_type": "markdown",
   "metadata": {},
   "source": [
    "  * Required elements include:\n",
    "\n",
    "    * `<!DOCTYPE html>` - **required** - informs the browser which version of HTML (or XML) you used to write the document. Doctype is a declaration, not a tag; you can also refer to it as \"document type declaration\", or \"DTD\" for short.\n",
    "\n",
    "    * `<html>` - **required** - represents the root (top-level element) of an HTML document, so it is also referred to as the root element. All other elements must be descendants of this element.\n",
    "\n",
    "    * `<head>` - **required** - not to be confused with [header](https://developer.mozilla.org/en-US/docs/Web/HTML/Element/header), the head provides general information about the document, including its title and links to its scripts and stylesheets. None of the content inside the head should be content that needs to be visible on the rendered page.\n",
    "\n",
    "    * `<meta charset-\"utf-8\">` - **good practice** - the meta element is used for representing any metadata information that can't be represented by another HTML meta-related element (`<title>`, `<style>`, `<script>`, etc.). In this case, we're specifying that we want to specify the character encoding of a web page. Essentially this helps tell the browser which language, writing system, and characters are being used in a web page. utf-8 is one of the most comprehensive and widely used and recommended. Students may ocassionally see this not used, since most of the time this will be correctly inferred by the browser, or sent back from the server; it's still a good idea to include it to make sure that characters in our content are correctly interpreted, according to [The World Wide Web Consortium](https://www.w3.org/International/questions/qa-html-encoding-declarations.en)\n",
    "\n",
    "    * `<title>` - **required** - defines the title of the document as shown in the browser's title bar or on the page tab. It can only contain text, any contained tabs are ignored.\n",
    "\n",
    "    * `<body>` - **required** - represents the content of an HTML document. All content that needs to be rendered to the page should be placed inside the body."
   ]
  },
  {
   "cell_type": "markdown",
   "metadata": {},
   "source": [
    "** Elements ** are created by using **Tags**\n",
    "\n",
    "* Self-closing tags like images Elements can have attributes -- name value pairs that are inside element tags -- like src for the source of an image.\n",
    "\n",
    "Parent-child relationships Div - basic unit in HTML. This is a portion of my web page.\n",
    "\n",
    "* Similar to XML\n",
    "    * XML was made after HMTL markup \n",
    "    * So XML learned from the mistakes of HTML. HTML carries those past mistakes forward, because browsers must still support code written in the old format.\n",
    "    * HTML is not case sensitive.\n",
    "    * In HTML not all elements are self-closing\n"
   ]
  },
  {
   "cell_type": "markdown",
   "metadata": {
    "collapsed": true
   },
   "source": [
    "\n",
    "* Once we have a few elements on the page, take this a step further and open Chrome Devtools. Devtools can be opened by any of the following:\n",
    "\n",
    "  * Right clicking the rendered HTML document inside of Chrome and clicking the `inspect` option.\n",
    "\n",
    "  * Pressing `F12` on Windows while in Chrome.\n",
    "\n",
    "  * Pressing `command + option + i` on a Mac.\n",
    "\n",
    "  ![Chrome Devtools](Images/02-Chrome-Devtools.png)\n",
    "\n",
    "* Make sure the `Elements` tab is selected here. \n",
    "\n",
    "* We don't need to dive too deeply into Devtools today, but it can be a helpful visual aid when showing students how our written HTML matches up to rendered elements on the page. Any element we click on inside the element inspector is highlighted on the rendered page.\n",
    "\n",
    "  ![02-HTML](Images/03-HTML.png)\n",
    "\n",
    "* Answer any questions before proceeding to the next exercise.\n"
   ]
  },
  {
   "cell_type": "code",
   "execution_count": null,
   "metadata": {
    "collapsed": true
   },
   "outputs": [],
   "source": []
  }
 ],
 "metadata": {
  "kernelspec": {
   "display_name": "Python 3",
   "language": "python",
   "name": "python3"
  },
  "language_info": {
   "codemirror_mode": {
    "name": "ipython",
    "version": 3
   },
   "file_extension": ".py",
   "mimetype": "text/x-python",
   "name": "python",
   "nbconvert_exporter": "python",
   "pygments_lexer": "ipython3",
   "version": "3.6.3"
  }
 },
 "nbformat": 4,
 "nbformat_minor": 2
}

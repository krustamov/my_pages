{
 "cells": [
  {
   "cell_type": "markdown",
   "metadata": {},
   "source": [
    "# Targeted CSS\n",
    "\n",
    "* Open the [06_targeted](../06_targeted.html).\n",
    "\n",
    "* Using an external stylesheet, classes, and IDs accomplish the following...\n",
    "  * Style the first element so that it has a color of blue\n",
    "  * Style the second and third elements so that they have a color of purple\n",
    "  * Style the fourth element so that it has a color of red\n",
    "\n",
    "### Bonus\n",
    "\n",
    "* Using only additional classes and IDs, attempt to accomplish the following...\n",
    "  * Set the background color of the first and last elements to black\n",
    "  * Set the font-size of the first element to 40px\n",
    "  * Set the font-weight of the second element to bold\n",
    "  * Set the font-size of the third and last elements to 10px\n"
   ]
  },
  {
   "cell_type": "code",
   "execution_count": null,
   "metadata": {
    "collapsed": true
   },
   "outputs": [],
   "source": []
  }
 ],
 "metadata": {
  "kernelspec": {
   "display_name": "Python 3",
   "language": "python",
   "name": "python3"
  },
  "language_info": {
   "codemirror_mode": {
    "name": "ipython",
    "version": 3
   },
   "file_extension": ".py",
   "mimetype": "text/x-python",
   "name": "python",
   "nbconvert_exporter": "python",
   "pygments_lexer": "ipython3",
   "version": "3.6.3"
  }
 },
 "nbformat": 4,
 "nbformat_minor": 2
}

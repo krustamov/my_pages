{
 "cells": [
  {
   "cell_type": "markdown",
   "metadata": {},
   "source": [
    "# Activity 1 - Student Bio Page\n",
    "\n",
    "* On your own, create a simple bio page for yourself using the following HTML elements...\n",
    "\n",
    "  * A header that will store your name inside of it\n",
    "  * An image that will act as a stand-in for your picture with an `alt` attribute which gives a very basic description of the image\n",
    "  * Two paragraphs that will have text describing who you are\n",
    "  * An unordered list of links that connect to your social media pages\n",
    "  * A table that will contain three columns and some data on your favorite movies, songs, books, or activities\n",
    "\n",
    "### Hints\n",
    "\n",
    "* Dummy images can be found at [lorempixel.com](http://lorempixel.com/) and dummy text can be found at [lipsum.com](http://www.lipsum.com/). Focus on getting the entire page working before diving into more specific text and images.\n",
    "\n",
    "### Bonuses\n",
    "\n",
    "* Look into how one might go about linking one custom-made HTML page to another. Once you have found out how, try creating a link from your bio page you have just created to one of the pages you created last class.\n"
   ]
  },
  {
   "cell_type": "code",
   "execution_count": null,
   "metadata": {
    "collapsed": true
   },
   "outputs": [],
   "source": []
  }
 ],
 "metadata": {
  "kernelspec": {
   "display_name": "Python 3",
   "language": "python",
   "name": "python3"
  },
  "language_info": {
   "codemirror_mode": {
    "name": "ipython",
    "version": 3
   },
   "file_extension": ".py",
   "mimetype": "text/x-python",
   "name": "python",
   "nbconvert_exporter": "python",
   "pygments_lexer": "ipython3",
   "version": "3.6.3"
  }
 },
 "nbformat": 4,
 "nbformat_minor": 2
}

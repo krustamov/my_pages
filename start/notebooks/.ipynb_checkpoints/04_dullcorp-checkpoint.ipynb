{
 "cells": [
  {
   "cell_type": "markdown",
   "metadata": {},
   "source": [
    "# Activity 4 - Adding Flair to DullCorp\n",
    "\n",
    "* Open the [04_dullcorp.html](../04_dullcorp.html).\n",
    "\n",
    "* Using external CSS and your imagination, update the \"DULL Corp\" website to be more interesting.\n",
    "  * Center the `header` element to the page\n",
    "  * Set each `h1`,`h2`, and `h3` element to be a different color\n",
    "  * Set `img` element to have a shadow. Look into box-shadow\n",
    "  * Give the `section` element a background color\n",
    "  * Change the font size of both `paragraph` elements\n",
    "  * Place a border around the `ul` element\n"
   ]
  },
  {
   "cell_type": "code",
   "execution_count": null,
   "metadata": {
    "collapsed": true
   },
   "outputs": [],
   "source": []
  }
 ],
 "metadata": {
  "kernelspec": {
   "display_name": "Python 3",
   "language": "python",
   "name": "python3"
  },
  "language_info": {
   "codemirror_mode": {
    "name": "ipython",
    "version": 3
   },
   "file_extension": ".py",
   "mimetype": "text/x-python",
   "name": "python",
   "nbconvert_exporter": "python",
   "pygments_lexer": "ipython3",
   "version": "3.6.3"
  }
 },
 "nbformat": 4,
 "nbformat_minor": 2
}

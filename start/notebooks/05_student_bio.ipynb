{
 "cells": [
  {
   "cell_type": "markdown",
   "metadata": {},
   "source": [
    "# Student Bio With Style\n",
    "\n",
    "* Open the [13_bio.html](http://127.0.0.1:5000/13_bio.html) folder and use the files inside as a starting point. The image included describes what the HTML file should look like at the end of the activity.\n",
    "\n",
    "* Style the HTML file with the following:\n",
    "\n",
    "  * Add a `class` called \"container\" on the `div` tag.\n",
    "  * Add an `id` called \"main-bio\" for the first `section` tag.\n",
    "  * Add an `id` called \"contact-info\" for the second `section` tag.\n",
    "  * Add an `id` called \"bio-image\" for the bio image.\n",
    "  * Style specs:\n",
    "    * `body`\n",
    "      * The background color is `#efeee7`.\n",
    "      * The font used `\"Georgia\", Times New Roman, Times, serif;`.\n",
    "      * The font color is `#333333`.\n",
    "      * Be sure to zero out the body margins and padding so the page is flush to the top of the page.\n",
    "    * `header`\n",
    "      * The background-color is `#333333`.\n",
    "    * `h1`\n",
    "      * The font color is `#eee`.\n",
    "      * The font size is `28px`.\n",
    "      * Look at the example on the screen, and eyeball the padding and/or margins and positioning of the text.\n",
    "    * `h2`\n",
    "      * The font size is `24px`\n",
    "    * Make the container have a width of 1024 pixels, and center it. You do this using `margin: 0 auto;`.\n",
    "    * Make `#main-bio`, `#contact-info`, `#bio-image` all `float: left`.\n",
    "    * Make the `#bio-image` have a width of 200 pixels.\n",
    "    * Be sure to include `alt` text in all images\n",
    "    * `#main-bio` should have a width of `70%`.\n",
    "    * Add margins to the image so there is distance between it and the bio text.\n",
    "    * `#content-info` should have a width of `30%`.\n",
    "      * Adjust the line height so it is 1.5 times the size of the font.\n",
    "    * Make the link color `#d21034`.\n",
    "    * `#figure` should be given relative positioning\n",
    "    * `#bio-name` should use absolute positioning and be placed at the bottom-center of your `#bio-image`\n",
    "\n",
    "* Make sure to replace the content inside of the HTML document with your own name, github link, etc.\n",
    "\n",
    "* Stage, commit, and push this new file to GitHub Pages\n",
    "\n",
    "### Bonuses\n",
    "\n",
    "* Using fixed positioning, attempt to create a footer on your page that will stay positioned at the bottom of the screen even when scrolling.\n",
    "\n",
    "* Underneath the main content of your page, add in a \"portfolio\" section. Try to make it so that the projects are set up in a kind of grid with two projects per row. Each of the projects should be named with a header, include a relevant image, and have a short paragraph describing the project.\n"
   ]
  },
  {
   "cell_type": "markdown",
   "metadata": {
    "collapsed": true
   },
   "source": [
    "![](BioLayout.png)"
   ]
  },
  {
   "cell_type": "code",
   "execution_count": null,
   "metadata": {
    "collapsed": true
   },
   "outputs": [],
   "source": []
  }
 ],
 "metadata": {
  "kernelspec": {
   "display_name": "Python 3",
   "language": "python",
   "name": "python3"
  },
  "language_info": {
   "codemirror_mode": {
    "name": "ipython",
    "version": 3
   },
   "file_extension": ".py",
   "mimetype": "text/x-python",
   "name": "python",
   "nbconvert_exporter": "python",
   "pygments_lexer": "ipython3",
   "version": "3.6.2"
  }
 },
 "nbformat": 4,
 "nbformat_minor": 2
}

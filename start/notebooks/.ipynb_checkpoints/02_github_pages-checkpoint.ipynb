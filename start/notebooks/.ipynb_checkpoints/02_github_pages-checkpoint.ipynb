{
 "cells": [
  {
   "cell_type": "markdown",
   "metadata": {},
   "source": [
    "# Activity 2 - GitHub Pages Personal Bio\n",
    "\n",
    "* Now that we have gone over how to create a personal website using GitHub Pages, it is your turn to publish the bio you created!\n",
    "\n",
    "* Once your personal webpage is live, slack it out so that everyone can see what you have made.\n",
    "\n",
    "### Deploy Guide\n",
    "\n",
    "1. Create a new repository that is named _username_.github.io\n",
    "2. Navigate into a folder and clone the repository into it\n",
    "3. Add an HTML file named index.html and code out a basic webpage (or use a previous page)\n",
    "4. Add, commit, and push your changes into the repository\n",
    "5. Navigate to _username_.github.io and you will find that your new web page has gone live!\n",
    "\n",
    "### Bonuses\n",
    "\n",
    "* Add a few new pages to your website\n",
    "* Add extra tags and flesh your page out some more - give it some pop\n"
   ]
  },
  {
   "cell_type": "code",
   "execution_count": null,
   "metadata": {
    "collapsed": true
   },
   "outputs": [],
   "source": []
  }
 ],
 "metadata": {
  "kernelspec": {
   "display_name": "Python 3",
   "language": "python",
   "name": "python3"
  },
  "language_info": {
   "codemirror_mode": {
    "name": "ipython",
    "version": 3
   },
   "file_extension": ".py",
   "mimetype": "text/x-python",
   "name": "python",
   "nbconvert_exporter": "python",
   "pygments_lexer": "ipython3",
   "version": "3.6.3"
  }
 },
 "nbformat": 4,
 "nbformat_minor": 2
}

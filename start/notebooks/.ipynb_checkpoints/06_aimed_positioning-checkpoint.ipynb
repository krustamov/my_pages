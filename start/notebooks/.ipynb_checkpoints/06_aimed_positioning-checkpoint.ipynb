{
 "cells": [
  {
   "cell_type": "markdown",
   "metadata": {},
   "source": [
    "# Activity 6 - Aimed Positioning of HTML Elements\n",
    "\n",
    "* Open the [11_aimed.html](http://127.0.0.1:5000/11_aimed.html).\n",
    "\n",
    "* Using CSS, position the five headers in the starter code in their described locations.\n",
    "\n",
    "  1. Try to accomplish this using the box model\n",
    "  2. Try to accomplish this using absolute positioning\n",
    "\n",
    "* Whenever you complete a step, save a unique version of your stylesheet and then create a new stylesheet for the next step.\n",
    "\n",
    "### Hints\n",
    "\n",
    "* You can move elements around the page using pixels OR percentages. Try out both to see how they work.\n",
    "\n",
    "* Not every task is capable of being accomplished without changing the order of HTML elements. Even then, some positions may still be impossible.\n",
    "\n",
    "### Bonus\n",
    "\n",
    "* Try to move the HTML elements provided using different kinds of positioning (static, relative, and fixed).\n"
   ]
  },
  {
   "cell_type": "code",
   "execution_count": null,
   "metadata": {
    "collapsed": true
   },
   "outputs": [],
   "source": []
  }
 ],
 "metadata": {
  "kernelspec": {
   "display_name": "Python 3",
   "language": "python",
   "name": "python3"
  },
  "language_info": {
   "codemirror_mode": {
    "name": "ipython",
    "version": 3
   },
   "file_extension": ".py",
   "mimetype": "text/x-python",
   "name": "python",
   "nbconvert_exporter": "python",
   "pygments_lexer": "ipython3",
   "version": "3.6.3"
  }
 },
 "nbformat": 4,
 "nbformat_minor": 2
}

{
 "cells": [
  {
   "cell_type": "markdown",
   "metadata": {},
   "source": [
    "# Activity 3 - GitHub Pages Project Webpage\n",
    "\n",
    "* Now that you know how to create webpages for specific projects, navigate into the repository of one of your previous activities or homework assignments and create a basic webpage for that project.\n",
    "\n",
    "* Make a simple website that explains what the purpose of the activity was and shows off some of the work that you have done.\n",
    "\n",
    "  * Create a header that will act as a title for the page\n",
    "  * Create a few short paragraphs describing the project's purpose\n",
    "  * Try to include at least one table or a picture of a graph that shows off some of the data you collected\n",
    "  * Have some fun! Test your HTML skills by going above and beyond with your page!\n",
    "\n",
    "* Once you have created your HTML, add, commit, and push your files up to GitHub Pages.\n",
    "\n",
    "  * Make sure to navigate to your page in the web browser to ensure your website is live \n",
    "\n",
    "### Deploy Guide\n",
    "\n",
    "1. Create a new repository on your GitHub account. You can name this repository whatever you would like.\n",
    "2. Once inside of the repository, create a new file and name it index.html\n",
    "3. Add your HTML into this file, save it, and then navigate into your repository's Settings tab.\n",
    "4. Scroll down to the GitHub Pages section and then, in the section labeled Source, select that you would like to use the master branch as your source.\n",
    "5. Navigate to _username_.github.io/_repositoryname_ and you will find that your new web page has gone live!\n",
    "\n",
    "### Bonuses\n",
    "\n",
    "* Try to create a navigation system which links from your personal website to this new project site and vice-versa.\n",
    "\n",
    "* See if you can create something of a portfolio that can be used to show off all of the work you have done in the past.\n"
   ]
  },
  {
   "cell_type": "code",
   "execution_count": null,
   "metadata": {
    "collapsed": true
   },
   "outputs": [],
   "source": []
  }
 ],
 "metadata": {
  "kernelspec": {
   "display_name": "Python 3",
   "language": "python",
   "name": "python3"
  },
  "language_info": {
   "codemirror_mode": {
    "name": "ipython",
    "version": 3
   },
   "file_extension": ".py",
   "mimetype": "text/x-python",
   "name": "python",
   "nbconvert_exporter": "python",
   "pygments_lexer": "ipython3",
   "version": "3.6.3"
  }
 },
 "nbformat": 4,
 "nbformat_minor": 2
}
